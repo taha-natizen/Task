{
 "cells": [
  {
   "cell_type": "markdown",
   "id": "80d51034-3ffc-41d9-94c0-01652aacbfbe",
   "metadata": {},
   "source": [
    "# Data Science Tools and Ecosystem"
   ]
  },
  {
   "cell_type": "markdown",
   "id": "40172d44-fb80-497b-8345-5f5224aa4846",
   "metadata": {},
   "source": [
    "In this notebook, Data Science Tools and Ecosystem are summarized."
   ]
  },
  {
   "cell_type": "markdown",
   "id": "ea1d5460-bc96-4caa-aaa7-cf25ecdbf1dc",
   "metadata": {},
   "source": [
    "**Objectives:**\n",
    "* List popular languages for Data Science\n",
    "* libraries used by Data Scientists\n",
    "* Data Science Tools\n",
    "* examples of evaluating arithmetic\n"
   ]
  },
  {
   "cell_type": "markdown",
   "id": "3ebe5bd4-665f-4706-b1c2-dc9a0c3a4047",
   "metadata": {},
   "source": [
    "Some of the popular languages that Data Scientists use are:\n",
    "1. Python\n",
    "2. Java\n",
    "3. R"
   ]
  },
  {
   "cell_type": "markdown",
   "id": "21351152-affc-41a4-9528-02141762fd38",
   "metadata": {},
   "source": [
    "Some of the commonly used libraries used by Data Scientists include:\n",
    "- Pandas\n",
    "- Numpy\n",
    "- Matplotlib"
   ]
  },
  {
   "cell_type": "markdown",
   "id": "50c21651-fd3b-480a-b05c-1865f5d0074a",
   "metadata": {},
   "source": [
    "|Data Science Tools:|\n",
    "|-----------|\n",
    "| Power BI|\n",
    "| GitHub|\n",
    "| RStudio|"
   ]
  },
  {
   "cell_type": "markdown",
   "id": "a21c503c-8f5b-48cd-bc37-83743842e1b4",
   "metadata": {},
   "source": [
    "### Below are a few examples of evaluating arithmetic expressions in Python"
   ]
  },
  {
   "cell_type": "code",
   "execution_count": 33,
   "id": "a6ba1203-8f01-45ee-a50b-8ac62bc7ceee",
   "metadata": {},
   "outputs": [
    {
     "data": {
      "text/plain": [
       "17"
      ]
     },
     "execution_count": 33,
     "metadata": {},
     "output_type": "execute_result"
    }
   ],
   "source": [
    "# This a simple arithmetic expression to mutiply then add integers\n",
    "(3*4)+5"
   ]
  },
  {
   "cell_type": "code",
   "execution_count": 9,
   "id": "6b648773-756e-42be-a8ae-5481238fc7ec",
   "metadata": {},
   "outputs": [],
   "source": []
  },
  {
   "cell_type": "code",
   "execution_count": 35,
   "id": "4e797448-5bf6-45f6-8de8-16892d7f412e",
   "metadata": {},
   "outputs": [],
   "source": [
    "# This will convert 200 minutes to hours by diving by 60\n",
    "hours = 200//60"
   ]
  },
  {
   "cell_type": "code",
   "execution_count": 37,
   "id": "6f12ea94-3e06-4771-900c-416c0cb096c0",
   "metadata": {},
   "outputs": [
    {
     "name": "stdout",
     "output_type": "stream",
     "text": [
      "3\n"
     ]
    }
   ],
   "source": [
    "print(hours)"
   ]
  },
  {
   "cell_type": "code",
   "execution_count": 15,
   "id": "00877a45-9e08-4281-90f8-ca1c5243b935",
   "metadata": {},
   "outputs": [],
   "source": [
    "#This will convert 200 minutes to hours by diving by 60"
   ]
  },
  {
   "cell_type": "markdown",
   "id": "e760bc7f-84ad-47b5-8d79-45c99906dfb6",
   "metadata": {},
   "source": [
    "## Author "
   ]
  },
  {
   "cell_type": "markdown",
   "id": "fd5e90ac-e6f7-47af-9632-4bca6ba5f343",
   "metadata": {},
   "source": [
    "Alisa"
   ]
  },
  {
   "cell_type": "code",
   "execution_count": null,
   "id": "6e14c913-fc4c-4d59-bf5c-e2bd02166a92",
   "metadata": {},
   "outputs": [],
   "source": []
  }
 ],
 "metadata": {
  "kernelspec": {
   "display_name": "Python 3 (ipykernel)",
   "language": "python",
   "name": "python3"
  },
  "language_info": {
   "codemirror_mode": {
    "name": "ipython",
    "version": 3
   },
   "file_extension": ".py",
   "mimetype": "text/x-python",
   "name": "python",
   "nbconvert_exporter": "python",
   "pygments_lexer": "ipython3",
   "version": "3.12.4"
  }
 },
 "nbformat": 4,
 "nbformat_minor": 5
}
